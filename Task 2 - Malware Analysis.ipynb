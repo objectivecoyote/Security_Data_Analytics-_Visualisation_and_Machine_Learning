{
 "cells": [
  {
   "cell_type": "markdown",
   "metadata": {},
   "source": [
    "<img src=\"https://www.cems.uwe.ac.uk/~pa-legg/uwecyber/images/uwe.png\" width=300>\n",
    "<img src=\"https://www.cems.uwe.ac.uk/~pa-legg/uwecyber/images/uwecyber_acecse_200.jpg\" width=300>\n",
    "\n",
    "# UFCFEL-15-3 Security Data Analytics and Visualisation\n",
    "# Portfolio Task 2: Malware Analysis (2021)\n",
    "---\n",
    "\n",
    "The completion of this worksheet is worth **20%** towards your portfolio assignment for the UFCFEL-15-3 Security Data Analytics and Visualisation (SDAV) module.\n",
    "\n",
    "### Task\n",
    "---\n",
    "\n",
    "In this task, you have been given a set of data collected from 150 machines that are infected with different strands of malware. You need to develop your own classifier that is capable of classifying a new data observation as one of the three malware variants, based on the data observations provided. The data has been pre-processed so that you can train your classifier on 120 samples of data. 30 data samples are then to be used to test the performance of the classifier, to be able to report on the accuracy of your classifier. You should make use of visualisation to illustrate how your classifier is informed by your training data, and you should be able to show how the testing data compares against your classifier model. You will need to describe the analytical process you have taken using Markdown, and you will need to report your overall final accuracy for the classifier.\n",
    "\n",
    "### Assessment and Marking\n",
    "---\n",
    "\n",
    "| Criteria | 0-39 | 40-49 | 50-59 | 60-69 | 70-84 | 85-100 |\n",
    "| --- | --- | --- | --- | --- | --- | --- |\n",
    "| **Developing a suitable means to define each training data cluster centroid (20%)** | No evidence of progress | A limited attempt to address this criteria | A working solution but perhaps not optimal | Good approach to the problem | Very good approach to the problem | Excellent approach to the problem |\n",
    "| **Developing a suitable means to classify test data into their respective groups and calculate classifier accuracy (40%)**  | No evidence of progress | A limited attempt to address this criteria |  A working solution but perhaps not optimal | Good approach to the problem | Very good approach to the problem | Excellent approach to the problem |\n",
    "| **Visualisation of cluster centroids and of group membership for test data (20%)**  | No evidence of progress | A limited attempt to address this criteria |  A working solution but perhaps not optimal | Good approach to the problem | Very good approach to the problem | Excellent approach to the problem |\n",
    "| **Supporting commentary as documented using Markdown (20%)**  | No evidence of progress | A limited attempt to address this criteria | Some evidence of markdown commentary | Good approach to the problem | Very good approach to the problem | Excellent approach to the problem |\n",
    "\n",
    "You will need to implement your final solution in the Notebook format, with Markdown annotation -  you should use this notebook file as a template for your submission. You are also expected to complete the assignment self-assessment.\n",
    "\n",
    "Your submission should include:\n",
    "- HTML export of your complete assignment in notebook format.\n",
    "- Original ipynb source file of your notebook.\n",
    "\n",
    "### Self-Assessment\n",
    "---\n",
    "\n",
    "For each criteria, please reflect on the marking rubric and indicate what grade you would expect to receive for the work that you are submitting. For your own personal development and learning, it is important to reflect on your work and to attempt to assess this careful. Do think carefully about both positive aspects of your work, as well as any limitations you may have faced.\n",
    "\n",
    "- **Developing a suitable means to define each training data cluster centroid (20%)**: You estimate that your grade will be 100.\n",
    "\n",
    "- **Developing a suitable means to classify test data into their respective groups and calculate classifier accuracy (40%)**  : You estimate that your grade will be 100.\n",
    "\n",
    "- **Visualisation of cluster centroids and of group membership for test data (20%)**: You estimate that your grade will be 100.\n",
    "\n",
    "- **Supporting commentary as documented using Markdown (20%)**: You estimate that your grade will be 100.\n",
    "\n",
    "Please provide a minimum of two sentences to comment and reflect on your own self-assessment:\n",
    "  \n",
    "*I feel I have done well on this task, and I think I have met the criteria well with efficient and suitable approaches. When it came to developing a suitable means of finding the centroid, I made it as a function which I feel is a good approach given how it reduces complexity and means that code does not have to be repeated.*\n",
    "  \n",
    "*Similarly I feel I did a very good job of creating a classifier, as I made it into a function which may simply be passed the new virus data which will return its prediction as to what type it is. This overal approach makes the solution efficient and easy to read, as it is made in a modular way.*\n",
    "  \n",
    "*My visualisation if the centroids also seems good, as I was able to create a plot that clearly showed where the calculated centroids were located, which also made it visually clear it was correct.*\n",
    "  \n",
    "*And finally, I felt as though I described my thought processes and approaches well throughout with markup, making it clear what I am doing in each step of the task and utilising more complex functions like inserting mathematical formulas.*"
   ]
  },
  {
   "cell_type": "code",
   "execution_count": 33,
   "metadata": {},
   "outputs": [],
   "source": [
    "### Here are the imports that you will require\n",
    "import numpy as np\n",
    "import pandas as pd\n",
    "import matplotlib.pyplot as plt\n",
    "from sklearn.decomposition import PCA\n",
    "import seaborn as sns\n",
    "from sklearn.utils import shuffle\n",
    "\n",
    "def load_data():\n",
    "    # the data is a standard pcap packet capture file (saved as a csv output)\n",
    "    file_name = './T2_data/T2_data.csv'\n",
    "    data = pd.read_csv(file_name, names=['cpu', 'mem', 'net', 'io', 'state'], index_col=False)\n",
    "    pca = PCA(n_components=2)\n",
    "    out = pca.fit_transform(data[['cpu', 'mem', 'net','io']])\n",
    "    df = pd.DataFrame(out, columns=['pca1', 'pca2'])\n",
    "    df['state'] = data['state']\n",
    "    train_data = df[:120]\n",
    "    test_data = df[120:]\n",
    "    test_labels = test_data['state']\n",
    "    test_data = test_data.drop(columns='state')\n",
    "    malware = train_data['state'].unique()\n",
    "    return train_data, test_data, test_labels, malware\n",
    "\n",
    "# Here are the training and testing datasets\n",
    "# split into the input data and the output labels\n",
    "train_data, test_data, test_labels, malware = load_data()\n",
    "#malware = train_data['state'].unique()"
   ]
  },
  {
   "cell_type": "code",
   "execution_count": 34,
   "metadata": {},
   "outputs": [
    {
     "name": "stdout",
     "output_type": "stream",
     "text": [
      "Malware class titles: ['NetCryptoJaCker' 'nixDestr00x0yer' 'Andr0idM0nkey']\n"
     ]
    }
   ],
   "source": [
    "### Have a look at what the pre-loaded variables contain: train_data, test_data, test_labels, malware\n",
    "print (\"Malware class titles:\", malware)"
   ]
  },
  {
   "cell_type": "markdown",
   "metadata": {},
   "source": [
    "## Ploting the Data\n",
    "\n",
    "To better understand the data that we are working with, we can plot the 2 dimensions using a scatter plot. We can seperate our three classes by colour to identify the different clusters."
   ]
  },
  {
   "cell_type": "code",
   "execution_count": 35,
   "metadata": {},
   "outputs": [
    {
     "data": {
      "image/png": "[encoded data removed]",
      "text/plain": [
       "<Figure size 432x288 with 1 Axes>"
      ]
     },
     "metadata": {
      "needs_background": "light"
     },
     "output_type": "display_data"
    }
   ],
   "source": [
    "set1 = train_data[ train_data['state']==malware[0] ]\n",
    "set2 = train_data[train_data['state']==malware[1]]\n",
    "set3 = train_data[train_data['state']==malware[2]]\n",
    "plt.scatter(set1['pca1'], set1['pca2'])\n",
    "plt.scatter(set2['pca1'], set2['pca2'])\n",
    "plt.scatter(set3['pca1'], set3['pca2'])\n",
    "plt.show()"
   ]
  },
  {
   "cell_type": "markdown",
   "metadata": {},
   "source": [
    "The above code loads in the dataset and splits this into 3 groups, based on the malware name given in the dataset. The three groups are plotted indepedently, each with a unique colour, so that we can begin to make comparison between these groups, and what characteristics may be used to differentiate.\n",
    "\n",
    "Now it is over to you..."
   ]
  },
  {
   "cell_type": "markdown",
   "metadata": {},
   "source": [
    "## Pre-processing\n",
    "#### The data provided should first be prepared before it is worked with\n",
    "\n",
    "The 3 training cluster dataframes do not need to specify what malware it is on each row, since the entire dataframe is dedicated to a single category of malware.\n",
    "It is important however that they are not mixed up, and so the dataframes will be renamed to the malware they represent."
   ]
  },
  {
   "cell_type": "code",
   "execution_count": 36,
   "metadata": {},
   "outputs": [],
   "source": [
    "#Renaming the sets and dropping the 'state' column\n",
    "NetCryptoJaCker = set1.drop(columns=['state'])\n",
    "nixDestr00x0yer = set2.drop(columns=['state'])\n",
    "Andr0idM0nkey = set3.drop(columns=['state'])"
   ]
  },
  {
   "cell_type": "markdown",
   "metadata": {},
   "source": [
    "Now that the cluster dataframes are more appropriately named and do not contain any useless data, it would also be ideal to ensure the columns are an appropriate data type"
   ]
  },
  {
   "cell_type": "code",
   "execution_count": 37,
   "metadata": {},
   "outputs": [
    {
     "name": "stdout",
     "output_type": "stream",
     "text": [
      "pca1    float64\n",
      "pca2    float64\n",
      "dtype: object\n",
      "pca1    float64\n",
      "pca2    float64\n",
      "dtype: object\n",
      "pca1    float64\n",
      "pca2    float64\n",
      "dtype: object\n"
     ]
    }
   ],
   "source": [
    "#Print the data types of each column, for each of the clusters\n",
    "print(NetCryptoJaCker.dtypes)\n",
    "print(nixDestr00x0yer.dtypes)\n",
    "print(Andr0idM0nkey.dtypes)"
   ]
  },
  {
   "cell_type": "markdown",
   "metadata": {},
   "source": [
    "The dataframes have suitable data types, but it would be ideal if the columns were more appropriately named. Since the malware data has been reduced to 2 dimensions, they may be considered as points in 2D space, so it will make more sense to rename them to 'x' and 'y'."
   ]
  },
  {
   "cell_type": "code",
   "execution_count": 38,
   "metadata": {},
   "outputs": [],
   "source": [
    "#Replace 'pca1' with 'x', and 'pca2' with 'y'\n",
    "NetCryptoJaCker = NetCryptoJaCker.rename(columns={'pca1': 'x', 'pca2': 'y'})\n",
    "nixDestr00x0yer = nixDestr00x0yer.rename(columns={'pca1': 'x', 'pca2': 'y'})\n",
    "Andr0idM0nkey = Andr0idM0nkey.rename(columns={'pca1': 'x', 'pca2': 'y'})"
   ]
  },
  {
   "cell_type": "markdown",
   "metadata": {},
   "source": [
    "As a final check, we will check the contents of one to make sure the changes have been applied."
   ]
  },
  {
   "cell_type": "code",
   "execution_count": 39,
   "metadata": {},
   "outputs": [
    {
     "data": {
      "text/html": [
       "<div>\n",
       "<style scoped>\n",
       "    .dataframe tbody tr th:only-of-type {\n",
       "        vertical-align: middle;\n",
       "    }\n",
       "\n",
       "    .dataframe tbody tr th {\n",
       "        vertical-align: top;\n",
       "    }\n",
       "\n",
       "    .dataframe thead th {\n",
       "        text-align: right;\n",
       "    }\n",
       "</style>\n",
       "<table border=\"1\" class=\"dataframe\">\n",
       "  <thead>\n",
       "    <tr style=\"text-align: right;\">\n",
       "      <th></th>\n",
       "      <th>x</th>\n",
       "      <th>y</th>\n",
       "    </tr>\n",
       "  </thead>\n",
       "  <tbody>\n",
       "    <tr>\n",
       "      <th>0</th>\n",
       "      <td>-2.684207</td>\n",
       "      <td>0.326607</td>\n",
       "    </tr>\n",
       "    <tr>\n",
       "      <th>1</th>\n",
       "      <td>-2.715391</td>\n",
       "      <td>-0.169557</td>\n",
       "    </tr>\n",
       "    <tr>\n",
       "      <th>2</th>\n",
       "      <td>-2.889820</td>\n",
       "      <td>-0.137346</td>\n",
       "    </tr>\n",
       "    <tr>\n",
       "      <th>3</th>\n",
       "      <td>-2.746437</td>\n",
       "      <td>-0.311124</td>\n",
       "    </tr>\n",
       "    <tr>\n",
       "      <th>4</th>\n",
       "      <td>-2.728593</td>\n",
       "      <td>0.333925</td>\n",
       "    </tr>\n",
       "    <tr>\n",
       "      <th>5</th>\n",
       "      <td>-2.279897</td>\n",
       "      <td>0.747783</td>\n",
       "    </tr>\n",
       "  </tbody>\n",
       "</table>\n",
       "</div>"
      ],
      "text/plain": [
       "          x         y\n",
       "0 -2.684207  0.326607\n",
       "1 -2.715391 -0.169557\n",
       "2 -2.889820 -0.137346\n",
       "3 -2.746437 -0.311124\n",
       "4 -2.728593  0.333925\n",
       "5 -2.279897  0.747783"
      ]
     },
     "execution_count": 39,
     "metadata": {},
     "output_type": "execute_result"
    }
   ],
   "source": [
    "NetCryptoJaCker.head(6)"
   ]
  },
  {
   "cell_type": "markdown",
   "metadata": {},
   "source": [
    "The cluster sets are now ready to work with."
   ]
  },
  {
   "cell_type": "markdown",
   "metadata": {},
   "source": [
    "# Defining the Data Center Centroids\n",
    "#### Before a method can be devised for classifying malware types, the centroids for the previously established clusters must be found.\n",
    "In order to accomplish this, a function will be created for finding the centroid from a series of point coordinates. The difference between the data points may be thought of as a euclidean distance between 2 points in space.\n",
    "Therefor, the difference or 'distance' between the points will be calculated with the formula: $\\sqrt{(x_1-x_2)^2+(y_1-y_2)^2}$ = *distance*"
   ]
  },
  {
   "cell_type": "code",
   "execution_count": 40,
   "metadata": {},
   "outputs": [],
   "source": [
    "#First define a new function, with a dataframe input\n",
    "def getCentroid (df):\n",
    "    #Create an empty integer for summing the x and y values\n",
    "    sumx = 0\n",
    "    sumy = 0\n",
    "    #For each coordinate\n",
    "    for coord in range(len(df.index)):\n",
    "        #Add x to all previous x values\n",
    "        #Then add y to all previous y values\n",
    "        sumx = sumx + df.iloc[coord,0]\n",
    "        sumy = sumy + df.iloc[coord,1]\n",
    "    #The x and y column from all data points has now been summed up\n",
    "    #Now find the average position (centroid)\n",
    "    x = sumx / len(df.index)\n",
    "    y = sumy / len(df.index)\n",
    "    #Finally return the result\n",
    "    return x,y"
   ]
  },
  {
   "cell_type": "markdown",
   "metadata": {},
   "source": [
    "The function may also be tested to see if it works, and if it returns a tuple as it should."
   ]
  },
  {
   "cell_type": "code",
   "execution_count": 41,
   "metadata": {},
   "outputs": [
    {
     "data": {
      "text/plain": [
       "(-2.640840758313127, 0.1905199527813719)"
      ]
     },
     "execution_count": 41,
     "metadata": {},
     "output_type": "execute_result"
    }
   ],
   "source": [
    "#Run the previously created function\n",
    "getCentroid(NetCryptoJaCker)"
   ]
  },
  {
   "cell_type": "markdown",
   "metadata": {},
   "source": [
    "The function appears to be functional, and so it is ready to be used for training.\n",
    "\n",
    "Now a dataframe should be created to store the centroid points, which will be key for creating a classifier. Using the created function, the dataframe is populated by the function from the data."
   ]
  },
  {
   "cell_type": "code",
   "execution_count": 42,
   "metadata": {},
   "outputs": [],
   "source": [
    "#Create a new dataset for containing the centroids\n",
    "centroids = pd.DataFrame(columns=[\"x\",\"y\"],data=[\n",
    "    getCentroid(NetCryptoJaCker),\n",
    "    getCentroid(nixDestr00x0yer),\n",
    "    getCentroid(Andr0idM0nkey)\n",
    "])"
   ]
  },
  {
   "cell_type": "markdown",
   "metadata": {},
   "source": [
    "It's also worth checking that the new dataframe has drawn properly, and so it will be checked."
   ]
  },
  {
   "cell_type": "code",
   "execution_count": 43,
   "metadata": {},
   "outputs": [
    {
     "data": {
      "text/html": [
       "<div>\n",
       "<style scoped>\n",
       "    .dataframe tbody tr th:only-of-type {\n",
       "        vertical-align: middle;\n",
       "    }\n",
       "\n",
       "    .dataframe tbody tr th {\n",
       "        vertical-align: top;\n",
       "    }\n",
       "\n",
       "    .dataframe thead th {\n",
       "        text-align: right;\n",
       "    }\n",
       "</style>\n",
       "<table border=\"1\" class=\"dataframe\">\n",
       "  <thead>\n",
       "    <tr style=\"text-align: right;\">\n",
       "      <th></th>\n",
       "      <th>x</th>\n",
       "      <th>y</th>\n",
       "    </tr>\n",
       "  </thead>\n",
       "  <tbody>\n",
       "    <tr>\n",
       "      <th>0</th>\n",
       "      <td>-2.640841</td>\n",
       "      <td>0.190520</td>\n",
       "    </tr>\n",
       "    <tr>\n",
       "      <th>1</th>\n",
       "      <td>0.531993</td>\n",
       "      <td>-0.244030</td>\n",
       "    </tr>\n",
       "    <tr>\n",
       "      <th>2</th>\n",
       "      <td>2.198211</td>\n",
       "      <td>-0.023801</td>\n",
       "    </tr>\n",
       "  </tbody>\n",
       "</table>\n",
       "</div>"
      ],
      "text/plain": [
       "          x         y\n",
       "0 -2.640841  0.190520\n",
       "1  0.531993 -0.244030\n",
       "2  2.198211 -0.023801"
      ]
     },
     "execution_count": 43,
     "metadata": {},
     "output_type": "execute_result"
    }
   ],
   "source": [
    "centroids"
   ]
  },
  {
   "cell_type": "markdown",
   "metadata": {},
   "source": [
    "The dataframe is functional and in the correct format, and so the next step will be to visualise these centroid points to ensure they appear to be correct (roughly in the center of the clusters).\n",
    "\n",
    "# Visualising the Cluster Centroids\n",
    "#### As a final check to ensure the centroids appear to be in correct positions, it will be plotted over the groups.\n",
    "To achieve this, the clusters from earlier will be replotted alongside the newly created centroid dataframe as well, to see how whether they are within correct positions."
   ]
  },
  {
   "cell_type": "code",
   "execution_count": 44,
   "metadata": {},
   "outputs": [
    {
     "data": {
      "image/png": "[encoded data removed]",
      "text/plain": [
       "<Figure size 1008x504 with 1 Axes>"
      ]
     },
     "metadata": {
      "needs_background": "light"
     },
     "output_type": "display_data"
    }
   ],
   "source": [
    "#Increase the plot size to make it more easily visible\n",
    "plt.figure(figsize=(14,7))\n",
    "\n",
    "#Plot the 3 malware type clusters from before\n",
    "plt.scatter(NetCryptoJaCker['x'], NetCryptoJaCker['y'])\n",
    "plt.scatter(nixDestr00x0yer['x'], nixDestr00x0yer['y'])\n",
    "plt.scatter(Andr0idM0nkey['x'], Andr0idM0nkey['y'])\n",
    "\n",
    "#Now plot the newly calculated centroids, with 'x' markers to be more visible\n",
    "plt.scatter(centroids['x'],centroids['y'], marker=\"x\", color='red', s=100)\n",
    "\n",
    "plt.show()"
   ]
  },
  {
   "cell_type": "markdown",
   "metadata": {},
   "source": [
    "The position of the centroids appear to be in the middle, and so the function is working correctly. This can now be used to create a method for classifying a new piece of malware that is introduced.\n",
    "\n",
    "# Creating a Classification Method\n",
    "#### Working from the centroid positions calculated, a method for classifying new malware can be devised.\n",
    "This will be done by creating a function that may be passed a new malware data point, which will then return the predicted category.\n",
    "Before this is done however, another function will be created to get the distance between 2 specified points as this operation will have to be repeated multiple times to classify a malware."
   ]
  },
  {
   "cell_type": "code",
   "execution_count": 45,
   "metadata": {},
   "outputs": [],
   "source": [
    "#Import the math library for using square root\n",
    "import math\n",
    "\n",
    "#Create a function for calculating the euclidean distance between 2 specified points\n",
    "def getDistance(xpoint,ypoint,xcentroid,ycentroid):\n",
    "    distance = math.sqrt(\n",
    "        ((xpoint - xcentroid)**2)+((ypoint - ycentroid)**2)\n",
    "    )\n",
    "    return distance\n",
    "\n",
    "#Now create a function for classifying malware\n",
    "def classifyMalware(pointx,pointy):\n",
    "    #Calculate the distance between input points and cluster centroids using the previously made function\n",
    "    cat1 = getDistance(pointx,pointy,centroids['x'][0],centroids['y'][0])\n",
    "    cat2 = getDistance(pointx,pointy,centroids['x'][1],centroids['y'][1])\n",
    "    cat3 = getDistance(pointx,pointy,centroids['x'][2],centroids['y'][2])\n",
    "    #Now store the distance values alongside their centroid category names in a dictionary\n",
    "    category = {\n",
    "        \"NetCryptoJaCker\":cat1,\n",
    "        \"nixDestr00x0yer\":cat2,\n",
    "        \"Andr0idM0nkey\":cat3}\n",
    "    #Finally, return the name of the malware that had the minimum difference (distance)\n",
    "    return min(category, key=category.get)"
   ]
  },
  {
   "cell_type": "markdown",
   "metadata": {},
   "source": [
    "Now the 'classifyMalware' function may be passed any 2 coordinates of a malware in order to return a prediction.\n",
    "\n",
    "Quickly testing with coordinate to check it works, the point (-2,0.5) will be checked."
   ]
  },
  {
   "cell_type": "code",
   "execution_count": 46,
   "metadata": {},
   "outputs": [
    {
     "data": {
      "text/plain": [
       "'NetCryptoJaCker'"
      ]
     },
     "execution_count": 46,
     "metadata": {},
     "output_type": "execute_result"
    }
   ],
   "source": [
    "classifyMalware(-2,0.5)"
   ]
  },
  {
   "cell_type": "markdown",
   "metadata": {},
   "source": [
    "The function appears functional, and returns its prediction.\n",
    "\n",
    "Now that a classifier has been made, it is time to test its accuracy by using the separate test data set.\n",
    "\n",
    "# Classification Method Accuracy\n",
    "\n",
    "The approach to testing the classifier's accuracy will involve cycling through each row of the test data set, and comparing its output to the 'data_labels' set to see whether the prediction matches the correct label.\n",
    "For finding the accuracy, the number of correct predictions the classifier makes will be counted which will also be used to find the percentage of accuracy."
   ]
  },
  {
   "cell_type": "code",
   "execution_count": 47,
   "metadata": {},
   "outputs": [],
   "source": [
    "#Create a new function for checking the accuracy, using a test_data and test_labels dataframe\n",
    "def getAccuracy (test_data, test_labels):\n",
    "    #Make a variable for tracking correct predictions\n",
    "    correctPredictions = 0\n",
    "    #For each malware in test dataset\n",
    "    for test in range(len(test_data.index)):\n",
    "        #Predict the category of malware and store it as a variable\n",
    "        yhat = classifyMalware(test_data['pca1'].iloc[test],test_data['pca2'].iloc[test])\n",
    "        #Check if the prediction is correct\n",
    "        if yhat == test_labels.iloc[test]:\n",
    "            #Predicted type was correct!\n",
    "            #Add one to correct guesses\n",
    "            correctPredictions=correctPredictions+1\n",
    "    #Now find what percent of the test data was accurately predicted\n",
    "    score = round((correctPredictions / len(test_data.index) * 100),2)\n",
    "    return \"The classification model correctly predicted \"+str(correctPredictions)+\" out of \"+str(len(test_data.index))+\", giving it an accuracy of \"+str(score)+\"%.\""
   ]
  },
  {
   "cell_type": "markdown",
   "metadata": {},
   "source": [
    "Now that a method has been made to check the accuracy of the classification model made, it can now be tested with the test_data and test_labels datasets."
   ]
  },
  {
   "cell_type": "code",
   "execution_count": 48,
   "metadata": {},
   "outputs": [
    {
     "data": {
      "text/plain": [
       "'The classification model correctly predicted 25 out of 30, giving it an accuracy of 83.33%.'"
      ]
     },
     "execution_count": 48,
     "metadata": {},
     "output_type": "execute_result"
    }
   ],
   "source": [
    "getAccuracy(test_data, test_labels)"
   ]
  },
  {
   "cell_type": "markdown",
   "metadata": {},
   "source": [
    "### The classifier correctly predicted 25/30 malware types, giving it an accuracy of 83.33%\n",
    "There is now a fully functional classifier with a decent accuracy which may be deployed for classifying future malware."
   ]
  }
 ],
 "metadata": {
  "kernelspec": {
   "display_name": "Python 3",
   "language": "python",
   "name": "python3"
  },
  "language_info": {
   "codemirror_mode": {
    "name": "ipython",
    "version": 3
   },
   "file_extension": ".py",
   "mimetype": "text/x-python",
   "name": "python",
   "nbconvert_exporter": "python",
   "pygments_lexer": "ipython3",
   "version": "3.8.8"
  },
  "widgets": {
   "state": {},
   "version": "1.1.2"
  }
 },
 "nbformat": 4,
 "nbformat_minor": 4
}
