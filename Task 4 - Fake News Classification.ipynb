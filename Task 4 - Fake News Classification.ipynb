{
 "cells": [
  {
   "cell_type": "markdown",
   "metadata": {},
   "source": [
    "<img src=\"https://www.cems.uwe.ac.uk/~pa-legg/uwecyber/images/uwe.png\" width=300>\n",
    "<img src=\"https://www.cems.uwe.ac.uk/~pa-legg/uwecyber/images/uwecyber_acecse_200.jpg\" width=300>\n",
    "\n",
    "# UFCFEL-15-3 Security Data Analytics and Visualisation\n",
    "# Portfolio Task 4: Fake News Classification (2021)\n",
    "---\n",
    "\n",
    "The completion of this worksheet is worth **30%** towards your portfolio for the UFCFEL-15-3 Security Data Analytics and Visualisation (SDAV) module.\n",
    "\n",
    "### Task\n",
    "***\n",
    "\n",
    "In this task, you will need to develop a system that can perform text analytics to classify news articles as either being fake news or true. You should look to use the ***ski-kit learn*** Python library as part of your work - you will find it useful to conduct research and to examine the user guide: [https://scikit-learn.org/stable/user_guide.html](https://scikit-learn.org/stable/user_guide.html). \n",
    "\n",
    "The provided dataset has two csv files: one contains 23481 fake news articles, the other contains 21417 true news articles. The data consists of the following columns: title (contains news headlines), text (contains news content/article), subject (type of news), and date (date the news was published).\n",
    "\n",
    "You will need to consider how to pre-process the data so that it is suitable for further analysis and for use with a machine learning classifier. This will include how the data is structured, how the output class is denoted, any cleansing of the text that may be required (e.g., removal of stopwords, stemming, n-grams).\n",
    "\n",
    "You should then show how you can deploy 3 different ML classifiers on the data, using the scikit-learn library to achieve this. As an example, you may choose the following 3 algorithms (or you may explore suitable alternatives):\n",
    "\n",
    "- logreg_cv = LogisticRegression(random_state=0)\n",
    "- dt_cv=DecisionTreeClassifier()\n",
    "- nb_cv=MultinomialNB(alpha=0.1) \n",
    "\n",
    "You should make use of visualisation to illustrate the distinguishing characteristics of the dataset classes, including the news categories and the top 20 n-grams of the data in each respective class.\n",
    "\n",
    "You will need to describe the analytical process you have taken using Markdown, and you will need to report your overall final accuracy for the classifier.\n",
    "\n",
    "### Assessment and Marking\n",
    "***\n",
    "\n",
    "| Criteria | 0-39 | 40-49 | 50-59 | 60-69 | 70-84 | 85-100 |\n",
    "| --- | --- | --- | --- | --- | --- | --- |\n",
    "| **Suitable use of text pre-processing (30%)** | No evidence of progress | A limited attempt to address this criteria | A working solution but perhaps not optimal | Good approach to the problem | Very good approach to the problem | Excellent approach to the problem |\n",
    "| **Use of 3 Machine Learning classifiers and reporting their performance (30%)**  | No evidence of progress | A limited attempt to address this criteria |  A working solution but perhaps not optimal | Good approach to the problem | Very good approach to the problem | Excellent approach to the problem |\n",
    "| **Visualisation techniques to understand the pre-processing and classification stages (20%)**  | No evidence of progress | A limited attempt to address this criteria |  A working solution but perhaps not optimal | Good approach to the problem | Very good approach to the problem | Excellent approach to the problem |\n",
    "| **Clarity and professional presentation (20%)**  | No evidence of progress | A limited attempt to address this criteria | Some evidence of markdown commentary | Good approach to the problem | Very good approach to the problem | Excellent approach to the problem |\n",
    "\n",
    "You will need to implement your final solution in the Notebook format, with Markdown annotation -  you should use this notebook file as a template for your submission. You are also expected to complete the assignment self-assessment.\n",
    "\n",
    "Your submission should include:\n",
    "- HTML export of your complete assignment in notebook format.\n",
    "- Original ipynb source file of your notebook.\n",
    "\n",
    "### Self-Assessment\n",
    "---\n",
    "\n",
    "For each criteria, please reflect on the marking rubric and indicate what grade you would expect to receive for the work that you are submitting. For your own personal development and learning, it is important to reflect on your work and to attempt to assess this careful. Do think carefully about both positive aspects of your work, as well as any limitations you may have faced.\n",
    "\n",
    "- **Suitable use of text pre-processing (30%)**: You estimate that your grade will be 80.\n",
    "\n",
    "- **Use of 3 Machine Learning classifiers and reporting their performance (30%)**: You estimate that your grade will be 100.\n",
    "\n",
    "- **Visualisation techniques to understand the pre-processing and classification stages (20%)**: You estimate that your grade will be 80.\n",
    "\n",
    "- **Clarity and professional presentation (20%)**: You estimate that your grade will be 100.\n",
    "\n",
    "Please provide a minimum of two sentences to comment and reflect on your own self-assessment:\n",
    "\n",
    "*I feel I did well on the text pre-processing, however I think I should have used the news categories instead of just dropping the column. I later realised a big portion of the top n-grams were politics related, and so I could have perhaps made use of this.*\n",
    "\n",
    "*I used 3 different machine learning algorithms and I reported their performance with regards to different metrics (e.g. recall, precision). I also made a confusion matrix for each so I think I met this criteria extremely well.*\n",
    "\n",
    "*As for the visualisation techniques, I think I could have included one or two more in order to show the pre-rocessing stages. My only visualisation was the ratio between true and false news sources, but I could have perhaps included another.*\n",
    "\n",
    "*Finally for the clarity and professioanl presentation, I think I did well and made good use of markup, headings, subheadings and so on so that it was clear what I was doing at each stage.*"
   ]
  },
  {
   "cell_type": "code",
   "execution_count": 1,
   "metadata": {},
   "outputs": [
    {
     "name": "stdout",
     "output_type": "stream",
     "text": [
      "Requirement already satisfied: pandas in c:\\users\\luke\\anaconda3\\lib\\site-packages (1.2.4)\n",
      "Requirement already satisfied: numpy in c:\\users\\luke\\anaconda3\\lib\\site-packages (1.20.1)\n",
      "Requirement already satisfied: matplotlib in c:\\users\\luke\\anaconda3\\lib\\site-packages (3.3.4)\n",
      "Requirement already satisfied: seaborn in c:\\users\\luke\\anaconda3\\lib\\site-packages (0.11.1)\n",
      "Requirement already satisfied: wordcloud in c:\\users\\luke\\anaconda3\\lib\\site-packages (1.8.1)\n",
      "Requirement already satisfied: sklearn in c:\\users\\luke\\anaconda3\\lib\\site-packages (0.0)\n",
      "Requirement already satisfied: cycler>=0.10 in c:\\users\\luke\\anaconda3\\lib\\site-packages (from matplotlib) (0.10.0)\n",
      "Requirement already satisfied: pyparsing!=2.0.4,!=2.1.2,!=2.1.6,>=2.0.3 in c:\\users\\luke\\anaconda3\\lib\\site-packages (from matplotlib) (2.4.7)\n",
      "Requirement already satisfied: pillow>=6.2.0 in c:\\users\\luke\\anaconda3\\lib\\site-packages (from matplotlib) (8.2.0)\n",
      "Requirement already satisfied: kiwisolver>=1.0.1 in c:\\users\\luke\\anaconda3\\lib\\site-packages (from matplotlib) (1.3.1)\n",
      "Requirement already satisfied: python-dateutil>=2.1 in c:\\users\\luke\\anaconda3\\lib\\site-packages (from matplotlib) (2.8.1)\n",
      "Requirement already satisfied: six in c:\\users\\luke\\anaconda3\\lib\\site-packages (from cycler>=0.10->matplotlib) (1.15.0)\n",
      "Requirement already satisfied: pytz>=2017.3 in c:\\users\\luke\\anaconda3\\lib\\site-packages (from pandas) (2021.1)\n",
      "Requirement already satisfied: scipy>=1.0 in c:\\users\\luke\\anaconda3\\lib\\site-packages (from seaborn) (1.6.2)\n",
      "Requirement already satisfied: scikit-learn in c:\\users\\luke\\anaconda3\\lib\\site-packages (from sklearn) (0.24.1)\n",
      "Requirement already satisfied: threadpoolctl>=2.0.0 in c:\\users\\luke\\anaconda3\\lib\\site-packages (from scikit-learn->sklearn) (2.1.0)\n",
      "Requirement already satisfied: joblib>=0.11 in c:\\users\\luke\\anaconda3\\lib\\site-packages (from scikit-learn->sklearn) (1.0.1)\n"
     ]
    }
   ],
   "source": [
    "!pip install pandas numpy matplotlib seaborn wordcloud sklearn \n",
    "#! pip install nltk\n",
    "\n",
    "#Basic libraries\n",
    "import pandas as pd \n",
    "import numpy as np \n",
    "\n",
    "#Visualization libraries\n",
    "import matplotlib.pyplot as plt\n",
    "import seaborn as sns\n",
    "\n",
    "#Miscellanous libraries\n",
    "from collections import Counter\n",
    "\n",
    "#Ignore warnings\n",
    "import warnings\n",
    "warnings.filterwarnings('ignore')"
   ]
  },
  {
   "cell_type": "markdown",
   "metadata": {},
   "source": [
    "## Loading the data\n"
   ]
  },
  {
   "cell_type": "code",
   "execution_count": 2,
   "metadata": {},
   "outputs": [
    {
     "name": "stdout",
     "output_type": "stream",
     "text": [
      "Fake news:  (23481, 4)\n",
      "True news:  (21417, 4)\n"
     ]
    }
   ],
   "source": [
    "#reading the fake and true datasets\n",
    "fake_news = pd.read_csv('Fake.csv')\n",
    "true_news = pd.read_csv('True.csv')\n",
    "\n",
    "print (\"Fake news: \", fake_news.shape)\n",
    "print (\"True news: \", true_news.shape)"
   ]
  },
  {
   "cell_type": "code",
   "execution_count": 3,
   "metadata": {},
   "outputs": [
    {
     "data": {
      "text/html": [
       "<div>\n",
       "<style scoped>\n",
       "    .dataframe tbody tr th:only-of-type {\n",
       "        vertical-align: middle;\n",
       "    }\n",
       "\n",
       "    .dataframe tbody tr th {\n",
       "        vertical-align: top;\n",
       "    }\n",
       "\n",
       "    .dataframe thead th {\n",
       "        text-align: right;\n",
       "    }\n",
       "</style>\n",
       "<table border=\"1\" class=\"dataframe\">\n",
       "  <thead>\n",
       "    <tr style=\"text-align: right;\">\n",
       "      <th></th>\n",
       "      <th>title</th>\n",
       "      <th>text</th>\n",
       "      <th>subject</th>\n",
       "      <th>date</th>\n",
       "    </tr>\n",
       "  </thead>\n",
       "  <tbody>\n",
       "    <tr>\n",
       "      <th>0</th>\n",
       "      <td>Donald Trump Sends Out Embarrassing New Year’...</td>\n",
       "      <td>Donald Trump just couldn t wish all Americans ...</td>\n",
       "      <td>News</td>\n",
       "      <td>December 31, 2017</td>\n",
       "    </tr>\n",
       "    <tr>\n",
       "      <th>1</th>\n",
       "      <td>Drunk Bragging Trump Staffer Started Russian ...</td>\n",
       "      <td>House Intelligence Committee Chairman Devin Nu...</td>\n",
       "      <td>News</td>\n",
       "      <td>December 31, 2017</td>\n",
       "    </tr>\n",
       "    <tr>\n",
       "      <th>2</th>\n",
       "      <td>Sheriff David Clarke Becomes An Internet Joke...</td>\n",
       "      <td>On Friday, it was revealed that former Milwauk...</td>\n",
       "      <td>News</td>\n",
       "      <td>December 30, 2017</td>\n",
       "    </tr>\n",
       "    <tr>\n",
       "      <th>3</th>\n",
       "      <td>Trump Is So Obsessed He Even Has Obama’s Name...</td>\n",
       "      <td>On Christmas day, Donald Trump announced that ...</td>\n",
       "      <td>News</td>\n",
       "      <td>December 29, 2017</td>\n",
       "    </tr>\n",
       "    <tr>\n",
       "      <th>4</th>\n",
       "      <td>Pope Francis Just Called Out Donald Trump Dur...</td>\n",
       "      <td>Pope Francis used his annual Christmas Day mes...</td>\n",
       "      <td>News</td>\n",
       "      <td>December 25, 2017</td>\n",
       "    </tr>\n",
       "    <tr>\n",
       "      <th>5</th>\n",
       "      <td>Racist Alabama Cops Brutalize Black Boy While...</td>\n",
       "      <td>The number of cases of cops brutalizing and ki...</td>\n",
       "      <td>News</td>\n",
       "      <td>December 25, 2017</td>\n",
       "    </tr>\n",
       "    <tr>\n",
       "      <th>6</th>\n",
       "      <td>Fresh Off The Golf Course, Trump Lashes Out A...</td>\n",
       "      <td>Donald Trump spent a good portion of his day a...</td>\n",
       "      <td>News</td>\n",
       "      <td>December 23, 2017</td>\n",
       "    </tr>\n",
       "    <tr>\n",
       "      <th>7</th>\n",
       "      <td>Trump Said Some INSANELY Racist Stuff Inside ...</td>\n",
       "      <td>In the wake of yet another court decision that...</td>\n",
       "      <td>News</td>\n",
       "      <td>December 23, 2017</td>\n",
       "    </tr>\n",
       "    <tr>\n",
       "      <th>8</th>\n",
       "      <td>Former CIA Director Slams Trump Over UN Bully...</td>\n",
       "      <td>Many people have raised the alarm regarding th...</td>\n",
       "      <td>News</td>\n",
       "      <td>December 22, 2017</td>\n",
       "    </tr>\n",
       "    <tr>\n",
       "      <th>9</th>\n",
       "      <td>WATCH: Brand-New Pro-Trump Ad Features So Muc...</td>\n",
       "      <td>Just when you might have thought we d get a br...</td>\n",
       "      <td>News</td>\n",
       "      <td>December 21, 2017</td>\n",
       "    </tr>\n",
       "  </tbody>\n",
       "</table>\n",
       "</div>"
      ],
      "text/plain": [
       "                                               title  \\\n",
       "0   Donald Trump Sends Out Embarrassing New Year’...   \n",
       "1   Drunk Bragging Trump Staffer Started Russian ...   \n",
       "2   Sheriff David Clarke Becomes An Internet Joke...   \n",
       "3   Trump Is So Obsessed He Even Has Obama’s Name...   \n",
       "4   Pope Francis Just Called Out Donald Trump Dur...   \n",
       "5   Racist Alabama Cops Brutalize Black Boy While...   \n",
       "6   Fresh Off The Golf Course, Trump Lashes Out A...   \n",
       "7   Trump Said Some INSANELY Racist Stuff Inside ...   \n",
       "8   Former CIA Director Slams Trump Over UN Bully...   \n",
       "9   WATCH: Brand-New Pro-Trump Ad Features So Muc...   \n",
       "\n",
       "                                                text subject  \\\n",
       "0  Donald Trump just couldn t wish all Americans ...    News   \n",
       "1  House Intelligence Committee Chairman Devin Nu...    News   \n",
       "2  On Friday, it was revealed that former Milwauk...    News   \n",
       "3  On Christmas day, Donald Trump announced that ...    News   \n",
       "4  Pope Francis used his annual Christmas Day mes...    News   \n",
       "5  The number of cases of cops brutalizing and ki...    News   \n",
       "6  Donald Trump spent a good portion of his day a...    News   \n",
       "7  In the wake of yet another court decision that...    News   \n",
       "8  Many people have raised the alarm regarding th...    News   \n",
       "9  Just when you might have thought we d get a br...    News   \n",
       "\n",
       "                date  \n",
       "0  December 31, 2017  \n",
       "1  December 31, 2017  \n",
       "2  December 30, 2017  \n",
       "3  December 29, 2017  \n",
       "4  December 25, 2017  \n",
       "5  December 25, 2017  \n",
       "6  December 23, 2017  \n",
       "7  December 23, 2017  \n",
       "8  December 22, 2017  \n",
       "9  December 21, 2017  "
      ]
     },
     "execution_count": 3,
     "metadata": {},
     "output_type": "execute_result"
    }
   ],
   "source": [
    "fake_news.head(10)"
   ]
  },
  {
   "cell_type": "code",
   "execution_count": 4,
   "metadata": {},
   "outputs": [
    {
     "data": {
      "text/html": [
       "<div>\n",
       "<style scoped>\n",
       "    .dataframe tbody tr th:only-of-type {\n",
       "        vertical-align: middle;\n",
       "    }\n",
       "\n",
       "    .dataframe tbody tr th {\n",
       "        vertical-align: top;\n",
       "    }\n",
       "\n",
       "    .dataframe thead th {\n",
       "        text-align: right;\n",
       "    }\n",
       "</style>\n",
       "<table border=\"1\" class=\"dataframe\">\n",
       "  <thead>\n",
       "    <tr style=\"text-align: right;\">\n",
       "      <th></th>\n",
       "      <th>title</th>\n",
       "      <th>text</th>\n",
       "      <th>subject</th>\n",
       "      <th>date</th>\n",
       "    </tr>\n",
       "  </thead>\n",
       "  <tbody>\n",
       "    <tr>\n",
       "      <th>0</th>\n",
       "      <td>As U.S. budget fight looms, Republicans flip t...</td>\n",
       "      <td>WASHINGTON (Reuters) - The head of a conservat...</td>\n",
       "      <td>politicsNews</td>\n",
       "      <td>December 31, 2017</td>\n",
       "    </tr>\n",
       "    <tr>\n",
       "      <th>1</th>\n",
       "      <td>U.S. military to accept transgender recruits o...</td>\n",
       "      <td>WASHINGTON (Reuters) - Transgender people will...</td>\n",
       "      <td>politicsNews</td>\n",
       "      <td>December 29, 2017</td>\n",
       "    </tr>\n",
       "    <tr>\n",
       "      <th>2</th>\n",
       "      <td>Senior U.S. Republican senator: 'Let Mr. Muell...</td>\n",
       "      <td>WASHINGTON (Reuters) - The special counsel inv...</td>\n",
       "      <td>politicsNews</td>\n",
       "      <td>December 31, 2017</td>\n",
       "    </tr>\n",
       "    <tr>\n",
       "      <th>3</th>\n",
       "      <td>FBI Russia probe helped by Australian diplomat...</td>\n",
       "      <td>WASHINGTON (Reuters) - Trump campaign adviser ...</td>\n",
       "      <td>politicsNews</td>\n",
       "      <td>December 30, 2017</td>\n",
       "    </tr>\n",
       "    <tr>\n",
       "      <th>4</th>\n",
       "      <td>Trump wants Postal Service to charge 'much mor...</td>\n",
       "      <td>SEATTLE/WASHINGTON (Reuters) - President Donal...</td>\n",
       "      <td>politicsNews</td>\n",
       "      <td>December 29, 2017</td>\n",
       "    </tr>\n",
       "    <tr>\n",
       "      <th>5</th>\n",
       "      <td>White House, Congress prepare for talks on spe...</td>\n",
       "      <td>WEST PALM BEACH, Fla./WASHINGTON (Reuters) - T...</td>\n",
       "      <td>politicsNews</td>\n",
       "      <td>December 29, 2017</td>\n",
       "    </tr>\n",
       "    <tr>\n",
       "      <th>6</th>\n",
       "      <td>Trump says Russia probe will be fair, but time...</td>\n",
       "      <td>WEST PALM BEACH, Fla (Reuters) - President Don...</td>\n",
       "      <td>politicsNews</td>\n",
       "      <td>December 29, 2017</td>\n",
       "    </tr>\n",
       "    <tr>\n",
       "      <th>7</th>\n",
       "      <td>Factbox: Trump on Twitter (Dec 29) - Approval ...</td>\n",
       "      <td>The following statements were posted to the ve...</td>\n",
       "      <td>politicsNews</td>\n",
       "      <td>December 29, 2017</td>\n",
       "    </tr>\n",
       "    <tr>\n",
       "      <th>8</th>\n",
       "      <td>Trump on Twitter (Dec 28) - Global Warming</td>\n",
       "      <td>The following statements were posted to the ve...</td>\n",
       "      <td>politicsNews</td>\n",
       "      <td>December 29, 2017</td>\n",
       "    </tr>\n",
       "    <tr>\n",
       "      <th>9</th>\n",
       "      <td>Alabama official to certify Senator-elect Jone...</td>\n",
       "      <td>WASHINGTON (Reuters) - Alabama Secretary of St...</td>\n",
       "      <td>politicsNews</td>\n",
       "      <td>December 28, 2017</td>\n",
       "    </tr>\n",
       "  </tbody>\n",
       "</table>\n",
       "</div>"
      ],
      "text/plain": [
       "                                               title  \\\n",
       "0  As U.S. budget fight looms, Republicans flip t...   \n",
       "1  U.S. military to accept transgender recruits o...   \n",
       "2  Senior U.S. Republican senator: 'Let Mr. Muell...   \n",
       "3  FBI Russia probe helped by Australian diplomat...   \n",
       "4  Trump wants Postal Service to charge 'much mor...   \n",
       "5  White House, Congress prepare for talks on spe...   \n",
       "6  Trump says Russia probe will be fair, but time...   \n",
       "7  Factbox: Trump on Twitter (Dec 29) - Approval ...   \n",
       "8         Trump on Twitter (Dec 28) - Global Warming   \n",
       "9  Alabama official to certify Senator-elect Jone...   \n",
       "\n",
       "                                                text       subject  \\\n",
       "0  WASHINGTON (Reuters) - The head of a conservat...  politicsNews   \n",
       "1  WASHINGTON (Reuters) - Transgender people will...  politicsNews   \n",
       "2  WASHINGTON (Reuters) - The special counsel inv...  politicsNews   \n",
       "3  WASHINGTON (Reuters) - Trump campaign adviser ...  politicsNews   \n",
       "4  SEATTLE/WASHINGTON (Reuters) - President Donal...  politicsNews   \n",
       "5  WEST PALM BEACH, Fla./WASHINGTON (Reuters) - T...  politicsNews   \n",
       "6  WEST PALM BEACH, Fla (Reuters) - President Don...  politicsNews   \n",
       "7  The following statements were posted to the ve...  politicsNews   \n",
       "8  The following statements were posted to the ve...  politicsNews   \n",
       "9  WASHINGTON (Reuters) - Alabama Secretary of St...  politicsNews   \n",
       "\n",
       "                 date  \n",
       "0  December 31, 2017   \n",
       "1  December 29, 2017   \n",
       "2  December 31, 2017   \n",
       "3  December 30, 2017   \n",
       "4  December 29, 2017   \n",
       "5  December 29, 2017   \n",
       "6  December 29, 2017   \n",
       "7  December 29, 2017   \n",
       "8  December 29, 2017   \n",
       "9  December 28, 2017   "
      ]
     },
     "execution_count": 4,
     "metadata": {},
     "output_type": "execute_result"
    }
   ],
   "source": [
    "true_news.head(10)"
   ]
  },
  {
   "cell_type": "markdown",
   "metadata": {},
   "source": [
    "The above code will load in the two datasets, showing the overall size of the datasets and also the first 10 rows from each dataset.\n",
    "\n",
    "Now it is over to you..."
   ]
  },
  {
   "cell_type": "code",
   "execution_count": 5,
   "metadata": {},
   "outputs": [],
   "source": [
    "from sklearn.feature_extraction.text import CountVectorizer\n",
    "from sklearn.feature_extraction.text import TfidfVectorizer\n",
    "from sklearn import svm\n",
    "from sklearn.model_selection import train_test_split\n",
    "from sklearn.metrics import accuracy_score\n",
    "from sklearn import metrics\n",
    "from sklearn.naive_bayes import MultinomialNB\n",
    "from sklearn.ensemble import RandomForestClassifier\n",
    "from sklearn.metrics import r2_score\n",
    "from sklearn.metrics import precision_score\n",
    "from sklearn.metrics import recall_score\n",
    "from sklearn.tree import DecisionTreeClassifier\n",
    "from sklearn.metrics import ConfusionMatrixDisplay\n",
    "from sklearn.metrics import confusion_matrix\n",
    "from sklearn.metrics import plot_confusion_matrix\n",
    "from nltk.corpus import stopwords\n",
    "import seaborn as sns\n",
    "import nltk \n",
    "import re"
   ]
  },
  {
   "cell_type": "markdown",
   "metadata": {},
   "source": [
    "# Data Cleaning and Preparation\n",
    "#### Overview of the data\n",
    "Let's begin by first checking what the datasets contain."
   ]
  },
  {
   "cell_type": "code",
   "execution_count": 6,
   "metadata": {
    "scrolled": true
   },
   "outputs": [
    {
     "name": "stdout",
     "output_type": "stream",
     "text": [
      "                                               title  \\\n",
      "0  As U.S. budget fight looms, Republicans flip t...   \n",
      "1  U.S. military to accept transgender recruits o...   \n",
      "2  Senior U.S. Republican senator: 'Let Mr. Muell...   \n",
      "\n",
      "                                                text       subject  \\\n",
      "0  WASHINGTON (Reuters) - The head of a conservat...  politicsNews   \n",
      "1  WASHINGTON (Reuters) - Transgender people will...  politicsNews   \n",
      "2  WASHINGTON (Reuters) - The special counsel inv...  politicsNews   \n",
      "\n",
      "                 date  \n",
      "0  December 31, 2017   \n",
      "1  December 29, 2017   \n",
      "2  December 31, 2017   \n",
      "                                               title  \\\n",
      "0   Donald Trump Sends Out Embarrassing New Year’...   \n",
      "1   Drunk Bragging Trump Staffer Started Russian ...   \n",
      "2   Sheriff David Clarke Becomes An Internet Joke...   \n",
      "\n",
      "                                                text subject  \\\n",
      "0  Donald Trump just couldn t wish all Americans ...    News   \n",
      "1  House Intelligence Committee Chairman Devin Nu...    News   \n",
      "2  On Friday, it was revealed that former Milwauk...    News   \n",
      "\n",
      "                date  \n",
      "0  December 31, 2017  \n",
      "1  December 31, 2017  \n",
      "2  December 30, 2017  \n"
     ]
    }
   ],
   "source": [
    "print(true_news.head(3))\n",
    "print(fake_news.head(3))"
   ]
  },
  {
   "cell_type": "markdown",
   "metadata": {},
   "source": [
    "#### Removing Date Column"
   ]
  },
  {
   "cell_type": "markdown",
   "metadata": {},
   "source": [
    "Firstly looking at the columns, the date stands out as a likely useless column that is not a good indication of whether or not a news article is true.\n",
    "\n",
    "One detail that is immediately obvious is that much of the text is about Donald Trump, who many outlets have written negative articles about. There has also been many claims about the accuracy of these articles, and so the there is likely to be a correlation between the time of his presidency (2016 up up 2020) and the accuracy of the news source. Nevertheless, this is likely a column best left out as in most circumstances the date an article was released is not a good indication of its accuracy.\n",
    "\n",
    "Therefore, the date column will be dropped from both data sets."
   ]
  },
  {
   "cell_type": "code",
   "execution_count": 7,
   "metadata": {},
   "outputs": [],
   "source": [
    "true_news.drop('date', axis=1, inplace=True)\n",
    "fake_news.drop('date', axis=1, inplace=True)"
   ]
  },
  {
   "cell_type": "markdown",
   "metadata": {},
   "source": [
    "#### Removing Categories\n",
    "The data sets must be combined into a single dataframe for training, and so the categories should be checked to decide on how they should be concatinated."
   ]
  },
  {
   "cell_type": "code",
   "execution_count": 8,
   "metadata": {},
   "outputs": [
    {
     "data": {
      "text/plain": [
       "array(['politicsNews', 'worldnews'], dtype=object)"
      ]
     },
     "execution_count": 8,
     "metadata": {},
     "output_type": "execute_result"
    }
   ],
   "source": [
    "true_news.subject.unique()"
   ]
  },
  {
   "cell_type": "code",
   "execution_count": 9,
   "metadata": {},
   "outputs": [
    {
     "data": {
      "text/plain": [
       "array(['News', 'politics', 'Government News', 'left-news', 'US_News',\n",
       "       'Middle-east'], dtype=object)"
      ]
     },
     "execution_count": 9,
     "metadata": {},
     "output_type": "execute_result"
    }
   ],
   "source": [
    "fake_news.subject.unique()"
   ]
  },
  {
   "cell_type": "markdown",
   "metadata": {},
   "source": [
    "As the categories appear to be much different, there isn't a way in which they can be combined while keeping the subject. This is unfortunate, as it's likely there is a pattern between the subject and the reliability. For example, there is likely more motivation to produce fake political news than simply 'worldnews' - although it could also be argued that it would not be a good idea for the classifier to factor in the subject when deciding if an article is true or not.\n",
    "\n",
    "We will therefor drop the subject columns from both datasets."
   ]
  },
  {
   "cell_type": "code",
   "execution_count": 10,
   "metadata": {},
   "outputs": [],
   "source": [
    "true_news.drop('subject', axis=1, inplace=True)\n",
    "fake_news.drop('subject', axis=1, inplace=True)"
   ]
  },
  {
   "cell_type": "markdown",
   "metadata": {},
   "source": [
    "#### Defining Classes and Combining Data Sets\n",
    "As mentioned the datasets have to be combined into a single dataframe to be used as training data. Therefor the dataset must include an indication as to whether or not each article is true or false.\n",
    "\n",
    "To do this, both dataframes will be combined and a new column will be made to be the new indication as to whether or not an article is true."
   ]
  },
  {
   "cell_type": "code",
   "execution_count": 11,
   "metadata": {},
   "outputs": [],
   "source": [
    "#Make a new column in each dataframe indicating their class\n",
    "fake_news['Class'] = False\n",
    "true_news['Class'] = True\n",
    "\n",
    "#Now combine the datasets\n",
    "data = pd.concat([fake_news, true_news], ignore_index=True,sort=False)"
   ]
  },
  {
   "cell_type": "markdown",
   "metadata": {},
   "source": [
    "Now let's check the form of the new data to ensure that this has worked correctly."
   ]
  },
  {
   "cell_type": "code",
   "execution_count": 12,
   "metadata": {},
   "outputs": [
    {
     "data": {
      "text/html": [
       "<div>\n",
       "<style scoped>\n",
       "    .dataframe tbody tr th:only-of-type {\n",
       "        vertical-align: middle;\n",
       "    }\n",
       "\n",
       "    .dataframe tbody tr th {\n",
       "        vertical-align: top;\n",
       "    }\n",
       "\n",
       "    .dataframe thead th {\n",
       "        text-align: right;\n",
       "    }\n",
       "</style>\n",
       "<table border=\"1\" class=\"dataframe\">\n",
       "  <thead>\n",
       "    <tr style=\"text-align: right;\">\n",
       "      <th></th>\n",
       "      <th>title</th>\n",
       "      <th>text</th>\n",
       "      <th>Class</th>\n",
       "    </tr>\n",
       "  </thead>\n",
       "  <tbody>\n",
       "    <tr>\n",
       "      <th>41729</th>\n",
       "      <td>Late UK PM Heath had questions to answer over ...</td>\n",
       "      <td>SWINDON, England (Reuters) - Former British pr...</td>\n",
       "      <td>True</td>\n",
       "    </tr>\n",
       "    <tr>\n",
       "      <th>25631</th>\n",
       "      <td>U.S. court rules Arkansas can block Planned Pa...</td>\n",
       "      <td>(Reuters) - A U.S. appeals court on Wednesday ...</td>\n",
       "      <td>True</td>\n",
       "    </tr>\n",
       "    <tr>\n",
       "      <th>15980</th>\n",
       "      <td>HA-HA! RETIRED MARINE TROLLS LIBERAL NEW YORKE...</td>\n",
       "      <td>It s always a win-win when you can find a hobb...</td>\n",
       "      <td>False</td>\n",
       "    </tr>\n",
       "    <tr>\n",
       "      <th>28401</th>\n",
       "      <td>U.S. House budget panel backs Republican healt...</td>\n",
       "      <td>WASHINGTON (Reuters) - The U.S. House Budget C...</td>\n",
       "      <td>True</td>\n",
       "    </tr>\n",
       "    <tr>\n",
       "      <th>41293</th>\n",
       "      <td>How a businessman struck a deal with Islamic S...</td>\n",
       "      <td>RAQQA/DUBAI (Reuters) - While Syrian President...</td>\n",
       "      <td>True</td>\n",
       "    </tr>\n",
       "    <tr>\n",
       "      <th>5467</th>\n",
       "      <td>Racist Attacker Accuses Sikh Family Of Terror...</td>\n",
       "      <td>On July 9, a 28-year-old Washington man broke ...</td>\n",
       "      <td>False</td>\n",
       "    </tr>\n",
       "  </tbody>\n",
       "</table>\n",
       "</div>"
      ],
      "text/plain": [
       "                                                   title  \\\n",
       "41729  Late UK PM Heath had questions to answer over ...   \n",
       "25631  U.S. court rules Arkansas can block Planned Pa...   \n",
       "15980  HA-HA! RETIRED MARINE TROLLS LIBERAL NEW YORKE...   \n",
       "28401  U.S. House budget panel backs Republican healt...   \n",
       "41293  How a businessman struck a deal with Islamic S...   \n",
       "5467    Racist Attacker Accuses Sikh Family Of Terror...   \n",
       "\n",
       "                                                    text  Class  \n",
       "41729  SWINDON, England (Reuters) - Former British pr...   True  \n",
       "25631  (Reuters) - A U.S. appeals court on Wednesday ...   True  \n",
       "15980  It s always a win-win when you can find a hobb...  False  \n",
       "28401  WASHINGTON (Reuters) - The U.S. House Budget C...   True  \n",
       "41293  RAQQA/DUBAI (Reuters) - While Syrian President...   True  \n",
       "5467   On July 9, a 28-year-old Washington man broke ...  False  "
      ]
     },
     "execution_count": 12,
     "metadata": {},
     "output_type": "execute_result"
    }
   ],
   "source": [
    "data.sample(6)"
   ]
  },
  {
   "cell_type": "markdown",
   "metadata": {},
   "source": [
    "This appears perfect, and so now the datasets have been combined and unnecessary columns have been dropped.\n",
    "\n",
    "The next step is to look closer at the text and title column contents."
   ]
  },
  {
   "cell_type": "markdown",
   "metadata": {},
   "source": [
    "#### Removing Symbols and Links"
   ]
  },
  {
   "cell_type": "markdown",
   "metadata": {},
   "source": [
    "Now information such as links and random symbols should be removed as these are unlikely to provide any useful information to the machine learning algorithms that will be applied.\n",
    "\n",
    "Let's have a look at a random article to see what unimportant details might be contained in the data set."
   ]
  },
  {
   "cell_type": "code",
   "execution_count": 13,
   "metadata": {},
   "outputs": [
    {
     "data": {
      "text/plain": [
       "'On Christmas day, Donald Trump announced that he would  be back to work  the following day, but he is golfing for the fourth day in a row. The former reality show star blasted former President Barack Obama for playing golf and now Trump is on track to outpace the number of golf games his predecessor played.Updated my tracker of Trump s appearances at Trump properties.71 rounds of golf including today s. At this pace, he ll pass Obama s first-term total by July 24 next year. https://t.co/Fg7VacxRtJ pic.twitter.com/5gEMcjQTbH  Philip Bump (@pbump) December 29, 2017 That makes what a Washington Post reporter discovered on Trump s website really weird, but everything about this administration is bizarre AF. The coding contained a reference to Obama and golf:  Unlike Obama, we are working to fix the problem   and not on the golf course.  However, the coding wasn t done correctly.The website of Donald Trump, who has spent several days in a row at the golf course, is coded to serve up the following message in the event of an internal server error: https://t.co/zrWpyMXRcz pic.twitter.com/wiQSQNNzw0  Christopher Ingraham (@_cingraham) December 28, 2017That snippet of code appears to be on all https://t.co/dkhw0AlHB4 pages, which the footer says is paid for by the RNC? pic.twitter.com/oaZDT126B3  Christopher Ingraham (@_cingraham) December 28, 2017It s also all over https://t.co/ayBlGmk65Z. As others have noted in this thread, this is weird code and it s not clear it would ever actually display, but who knows.  Christopher Ingraham (@_cingraham) December 28, 2017After the coding was called out, the reference to Obama was deleted.UPDATE: The golf error message has been removed from the Trump and GOP websites. They also fixed the javascript  =  vs  ==  problem. Still not clear when these messages would actually display, since the actual 404 (and presumably 500) page displays a different message pic.twitter.com/Z7dmyQ5smy  Christopher Ingraham (@_cingraham) December 29, 2017That suggests someone at either RNC or the Trump admin is sensitive enough to Trump s golf problem to make this issue go away quickly once people noticed. You have no idea how much I d love to see the email exchange that led us here.  Christopher Ingraham (@_cingraham) December 29, 2017 The code was f-cked up.The best part about this is that they are using the  =  (assignment) operator which means that bit of code will never get run. If you look a few lines up  errorCode  will always be  404          (@tw1trsux) December 28, 2017trump s coders can t code. Nobody is surprised.  Tim Peterson (@timrpeterson) December 28, 2017Donald Trump is obsessed with Obama that his name was even in the coding of his website while he played golf again.Photo by Joe Raedle/Getty Images.'"
      ]
     },
     "execution_count": 13,
     "metadata": {},
     "output_type": "execute_result"
    }
   ],
   "source": [
    "data.iloc[3].text"
   ]
  },
  {
   "cell_type": "markdown",
   "metadata": {},
   "source": [
    "Looking through a few different pieces of text from articles, it's clear there is information that is not needed and will only cause confusion if it is used to train a classifier.\n",
    "\n",
    "These unwanted details include:\n",
    "- Twitter Handles (@)\n",
    "- Time stamps ([])\n",
    "- Bitfly Links (bit.ly)\n",
    "- Other html links ('http://' and 'https://')\n",
    "\n",
    "As they all follow a common pattern, they can be gotten rid of by removing any single word that includes any of these symbols. E.g. if a long word starts with an '@', it is likely a Twitter handle or a link to some other form of social media. Or if is surrounded by square brackets, it is likely a timestamp."
   ]
  },
  {
   "cell_type": "code",
   "execution_count": 14,
   "metadata": {},
   "outputs": [],
   "source": [
    "#Remove usernames and handles\n",
    "data['text'].replace(to_replace='@[^\\s]+', value='',inplace=True,regex=True)\n",
    "#Remove bit.ly links\n",
    "data['text'].replace(to_replace='bit.ly[^\\s]+', value='',inplace=True,regex=True) \n",
    "#Remove time stamps (e.g. '[2109 EST]')\n",
    "data['text'].replace(to_replace=r'[[\\w*\\s*\\-*]*]', value='',inplace=True,regex=True) \n",
    "#Remove any empty round brackets\n",
    "data['text'].replace(to_replace=r'[\\([{})\\]]', value='',inplace=True,regex=True)\n",
    "#Remove any other links\n",
    "data['text'].replace(to_replace=r'http\\S+', value='',inplace=True,regex=True)\n",
    "#Remove any other links\n",
    "data['text'].replace(to_replace=r'pic.\\S+', value='',inplace=True,regex=True)"
   ]
  },
  {
   "cell_type": "markdown",
   "metadata": {},
   "source": [
    "And doing a final check to ensure the text has properly been cleaned"
   ]
  },
  {
   "cell_type": "code",
   "execution_count": 15,
   "metadata": {},
   "outputs": [
    {
     "data": {
      "text/plain": [
       "'On Christmas day, Donald Trump announced that he would  be back to work  the following day, but he is golfing for the fourth day in a row. The former reality show star blasted former President Barack Obama for playing golf and now Trump is on track to outpace the number of golf games his predecessor played.Updated my tracker of Trump s appearances at Trump properties.71 rounds of golf including today s. At this pace, he ll pass Obama s first-term total by July 24 next year.    Philip Bump  December 29, 2017 That makes what a Washington Post reporter discovered on Trump s website really weird, but everything about this administration is bizarre AF. The coding contained a reference to Obama and golf:  Unlike Obama, we are working to fix the problem   and not on the golf course.  However, the coding wasn t done correctly.The website of Donald Trump, who has spent several days in a row at the golf course, is coded to serve up the following message in the event of an internal server error:    Christopher Ingraham  December 28, 2017That snippet of code appears to be on all  pages, which the footer says is paid for by the RNC?   Christopher Ingraham  December 28, 2017It s also all over  As others have noted in this thread, this is weird code and it s not clear it would ever actually display, but who knows.  Christopher Ingraham  December 28, 2017After the coding was called out, the reference to Obama was deleted.UPDATE: The golf error message has been removed from the Trump and GOP websites. They also fixed the javascript  =  vs  ==  problem. Still not clear when these messages would actually display, since the actual 404 and presumably 500 page displays a different message   Christopher Ingraham  December 29, 2017That suggests someone at either RNC or the Trump admin is sensitive enough to Trump s golf problem to make this issue go away quickly once people noticed. You have no idea how much I d love to see the email exchange that led us here.  Christopher Ingraham  December 29, 2017 The code was f-cked up.The best part about this is that they are using the  =  assignment operator which means that bit of code will never get run. If you look a few lines up  errorCode  will always be  404           December 28, 2017trump s coders can t code. Nobody is surprised.  Tim Peterson  December 28, 2017Donald Trump is obsessed with Obama that his name was even in the coding of his website while he played golf again.Photo by Joe Raedle/Getty Images.'"
      ]
     },
     "execution_count": 15,
     "metadata": {},
     "output_type": "execute_result"
    }
   ],
   "source": [
    "data.iloc[3].text"
   ]
  },
  {
   "cell_type": "markdown",
   "metadata": {},
   "source": [
    "The data set has now been cleansed of links, symbols, timestamps and other pointless information. There is another way in which the data set can be cleased further however."
   ]
  },
  {
   "cell_type": "markdown",
   "metadata": {},
   "source": [
    "#### Removing Stopwords"
   ]
  },
  {
   "cell_type": "markdown",
   "metadata": {},
   "source": [
    "It can be seen that there are also a lot of stopwords (e.g. 'and', 'that' etc) which will provide no useful information for determining whether or not a news article is fake. These should also be removed."
   ]
  },
  {
   "cell_type": "code",
   "execution_count": 16,
   "metadata": {},
   "outputs": [
    {
     "name": "stderr",
     "output_type": "stream",
     "text": [
      "[nltk_data] Downloading package stopwords to\n",
      "[nltk_data]     C:\\Users\\Luke\\AppData\\Roaming\\nltk_data...\n",
      "[nltk_data]   Package stopwords is already up-to-date!\n"
     ]
    }
   ],
   "source": [
    "#Download NLTK's current stopwords dictionary\n",
    "nltk.download('stopwords')\n",
    "#Create an object which details all English stopwards from the downloaded library\n",
    "stop = stopwords.words('english')\n",
    "#Remove all stopwords, and rejoin with a space\n",
    "data['text'] = data['text'].apply(lambda words: ' '.join(word.lower() for word in words.split() if word not in stop))"
   ]
  },
  {
   "cell_type": "code",
   "execution_count": 17,
   "metadata": {},
   "outputs": [
    {
     "data": {
      "text/plain": [
       "'on christmas day, donald trump announced would back work following day, golfing fourth day row. the former reality show star blasted former president barack obama playing golf trump track outpace number golf games predecessor played.updated tracker trump appearances trump properties.71 rounds golf including today s. at pace, pass obama first-term total july 24 next year. philip bump december 29, 2017 that makes washington post reporter discovered trump website really weird, everything administration bizarre af. the coding contained reference obama golf: unlike obama, working fix problem golf course. however, coding done correctly.the website donald trump, spent several days row golf course, coded serve following message event internal server error: christopher ingraham december 28, 2017that snippet code appears pages, footer says paid rnc? christopher ingraham december 28, 2017it also as others noted thread, weird code clear would ever actually display, knows. christopher ingraham december 28, 2017after coding called out, reference obama deleted.update: the golf error message removed trump gop websites. they also fixed javascript = vs == problem. still clear messages would actually display, since actual 404 presumably 500 page displays different message christopher ingraham december 29, 2017that suggests someone either rnc trump admin sensitive enough trump golf problem make issue go away quickly people noticed. you idea much i love see email exchange led us here. christopher ingraham december 29, 2017 the code f-cked up.the best part using = assignment operator means bit code never get run. if look lines errorcode always 404 december 28, 2017trump coders code. nobody surprised. tim peterson december 28, 2017donald trump obsessed obama name even coding website played golf again.photo joe raedle/getty images.'"
      ]
     },
     "execution_count": 17,
     "metadata": {},
     "output_type": "execute_result"
    }
   ],
   "source": [
    "data.iloc[3].text"
   ]
  },
  {
   "cell_type": "markdown",
   "metadata": {},
   "source": [
    "The data is now properly formatted and contains no stopwords."
   ]
  },
  {
   "cell_type": "markdown",
   "metadata": {},
   "source": [
    "#### Checking Class Distrobution\n",
    "\n",
    "As another check it will be made sure that there are a similar number of fake news articles as there are true. This is important as the model would otherwise develop a bias. For example, if 80% of the articles are fake, the model is unlikely to learn much about what a 'real' article looks like.\n",
    "\n",
    "Let's make a plot to see whether this is the case."
   ]
  },
  {
   "cell_type": "code",
   "execution_count": 18,
   "metadata": {},
   "outputs": [
    {
     "data": {
      "image/png": "[encoded data removed]",
      "text/plain": [
       "<Figure size 432x288 with 1 Axes>"
      ]
     },
     "metadata": {
      "needs_background": "light"
     },
     "output_type": "display_data"
    }
   ],
   "source": [
    "#Create a countplot by count of each 'Class' in the data set\n",
    "sns.countplot(x ='Class', data = data)\n",
    "\n",
    "#Show the plot\n",
    "plt.plot();"
   ]
  },
  {
   "cell_type": "markdown",
   "metadata": {},
   "source": [
    "Although there is a slight difference between the number of True and False articles, it likely isn't enough to have a negative impact on its suitability for training.\n",
    "\n",
    "While it would be an option to drop the difference in rows from the 'False' class to make them even, it is thought to likely be better to have the additional data rather than making the number of true and fake articles exactly equal."
   ]
  },
  {
   "cell_type": "markdown",
   "metadata": {},
   "source": [
    "#### Top N-Grams of the Classes\n",
    "\n",
    "Finally, for context of the data sets, let's see the top n-grams for each class to see whether there are any noticeable patterns"
   ]
  },
  {
   "cell_type": "code",
   "execution_count": 19,
   "metadata": {},
   "outputs": [
    {
     "name": "stdout",
     "output_type": "stream",
     "text": [
      "Fake News:\n",
      "            count\n",
      "said        99053\n",
      "the         59529\n",
      "trump       54695\n",
      "would       31598\n",
      "reuters     28965\n",
      "president   28173\n",
      "state       21020\n",
      "government  18844\n",
      "new         16916\n",
      "states      16647\n",
      "house       16638\n",
      "republican  16243\n",
      "also        15953\n",
      "it          15638\n",
      "united      15583\n",
      "people      15284\n",
      "year        14776\n",
      "told        14244\n",
      "could       13708\n",
      "one         13393\n",
      "True News:\n",
      "           count\n",
      "trump      79075\n",
      "the        59355\n",
      "said       33681\n",
      "it         29065\n",
      "president  27631\n",
      "people     26461\n",
      "one        24475\n",
      "would      23489\n",
      "clinton    19091\n",
      "obama      18723\n",
      "like       18041\n",
      "in         18029\n",
      "donald     17638\n",
      "this       17004\n",
      "he         16537\n",
      "also       15368\n",
      "us         14597\n",
      "news       14573\n",
      "new        14346\n",
      "hillary    14065\n"
     ]
    }
   ],
   "source": [
    "#Define a count vectorizer to count the occurances of words in the true data set\n",
    "word_vectorizer_true = CountVectorizer(ngram_range=(1,1), analyzer='word')\n",
    "#Create a temporary data set including the fake articles\n",
    "fake = data[data['Class'] == False]\n",
    "#Create a matrix of values from the vectorizer, fitted to the temporary data set\n",
    "sparse_matrix_true = word_vectorizer_true.fit_transform(fake['text'])\n",
    "#Convert the sum of each word used to an array from the matrix\n",
    "count = sum(sparse_matrix_true).toarray()[0]\n",
    "#Create a new data frame with the words from the vectorizer as an index\n",
    "fakengrams = pd.DataFrame(count, index=word_vectorizer_true.get_feature_names(), columns=['count'])\n",
    "#Sort by the count so that the most popular are shown first\n",
    "fakengrams = fakengrams.sort_values(by=['count'],ascending=False)\n",
    "\n",
    "#Define a count vectorizer to count the occurances of words in the false data set\n",
    "word_vectorizer_fake = CountVectorizer(ngram_range=(1,1), analyzer='word')\n",
    "#Create a temporary data set including the true articles\n",
    "true = data[data['Class'] == True]\n",
    "#Create a matrix of values from the vectorizer, fitted to the temporary data set\n",
    "sparse_matrix_fake = word_vectorizer_fake.fit_transform(true['text'])\n",
    "#Convert the sum of each word used to an array from the matrix\n",
    "count = sum(sparse_matrix_fake).toarray()[0]\n",
    "#Create a new data frame with the words from the vectorizer as an index\n",
    "truengrams = pd.DataFrame(count, index=word_vectorizer_fake.get_feature_names(), columns=['count'])\n",
    "#Sort by the count so that the most popular are shown first\n",
    "truengrams = truengrams.sort_values(by=['count'],ascending=False)\n",
    "\n",
    "#Show the top 20 fake news n-grams\n",
    "print(\"Fake News:\")\n",
    "print(truengrams.head(20))\n",
    "#Show the top 20 true news n-grams\n",
    "print(\"True News:\")\n",
    "print(fakengrams.head(20))"
   ]
  },
  {
   "cell_type": "markdown",
   "metadata": {},
   "source": [
    "Interestingly there are immediately a number of patterns visible. Although all of the news categories were combined, many of the most popular words are about politics. This would make sense, as there is perhaps more of an incentive to create false news articles to smear disliked political opponents.\n",
    "\n",
    "This clearly shows that there are patterns and differences between the different classes, which should be very useful as machine learning algorithms should be able to pick up on them."
   ]
  },
  {
   "cell_type": "markdown",
   "metadata": {},
   "source": [
    "#### Pre-Processing Summary"
   ]
  },
  {
   "cell_type": "markdown",
   "metadata": {},
   "source": [
    "As links have been removed, the only potentially unrelated/irrelevant detail within the data is where certain words/phrases such as 'Source', or 'Source Link:' exist. While it could be argued that these phrases could be in any news article about any subject, whether true or not, it is thought that the inclusion of secondary sources might be a potential indicator of the liklihood a news article is true.\n",
    "\n",
    "There are also some grammar errors that are often visible in fake articles, and such details like these could be picked up on to indicate potentially false news by the algorithms that will be applied.\n",
    "\n",
    "The pre-processing is now complete and it's time to move onto creating some models."
   ]
  },
  {
   "cell_type": "markdown",
   "metadata": {},
   "source": [
    "# Model Creation\n",
    "##### The algoriths Support Vector Machine, Multinomial Naive Bayes and Decision Tree will now be applied to the pre-processed data to create different models which may be compared in the next chapter."
   ]
  },
  {
   "cell_type": "markdown",
   "metadata": {},
   "source": [
    "### SVM (Support Vector Machine)\n",
    "Let's start by creating an SVM model.\n",
    "\n",
    "First let's split the data into training and testing sets. Let's use 80% of the data set for training, and keep the remaining 20% for testing later."
   ]
  },
  {
   "cell_type": "code",
   "execution_count": 20,
   "metadata": {},
   "outputs": [],
   "source": [
    "#Split the target (class) from the feature (text) into their own dataframes\n",
    "target = data['Class']\n",
    "features = data['text']\n",
    "\n",
    "#Split the data, with a test size of 20%\n",
    "#Let's also set a random state of 30, for fair future model comparisons\n",
    "X_train, X_test, y_train, y_test = train_test_split(features,target, test_size=0.2,random_state=30)"
   ]
  },
  {
   "cell_type": "markdown",
   "metadata": {},
   "source": [
    "Now let's create a new SVM model and train it based on the training data set.\n",
    "\n",
    "As the training data we are dealing with is text and not numerical, it will also have to be vectorised before being used to train the model. To accomplish this, the CountVectoriser function of Scikit-Learn will be used. This is a bag-of-words approach and involves counting the number of word occurances - the same method used earlier to find the top 20 n-grams."
   ]
  },
  {
   "cell_type": "code",
   "execution_count": 21,
   "metadata": {},
   "outputs": [],
   "source": [
    "#Vectorise the text datasets using CountVectorizer, to convert their contents from text to integers\n",
    "vectorizer = CountVectorizer(max_features=2000,min_df=5, max_df=0.7)\n",
    "\n",
    "#Fit the vectoriser\n",
    "count_vect_fit = vectorizer.fit(X_train)\n",
    "\n",
    "#Finally apply the fitted vectoriser to the training and testing data sets.\n",
    "X_train_svm = count_vect_fit.transform(X_train)\n",
    "X_test_svm = count_vect_fit.transform(X_test)\n",
    "\n",
    "#Create a new SVM model, with gamma set to auto so that the model will automatically adjust the training example influence\n",
    "SVMClassifier = svm.SVC(C=1.0, kernel='linear', gamma='auto')\n",
    "\n",
    "#And finally fit the model to the vectorised training dataset features and target\n",
    "SVMClassifier.fit(X_train_svm,y_train)\n",
    "\n",
    "#Let's also get the model's predictions for each row in the test data set, to test how many it got right next\n",
    "SVMClassifierPredictions = SVMClassifier.predict(X_test_svm)"
   ]
  },
  {
   "cell_type": "markdown",
   "metadata": {},
   "source": [
    "And finally let's use the test data set to check its accuracy"
   ]
  },
  {
   "cell_type": "code",
   "execution_count": 22,
   "metadata": {},
   "outputs": [
    {
     "name": "stdout",
     "output_type": "stream",
     "text": [
      "Accuracy: 0.9937639198218263\n",
      "Precision: 0.9950553331763597\n",
      "Recall: 0.9917859657357427\n"
     ]
    }
   ],
   "source": [
    "print(\"Accuracy: \"+str(accuracy_score(y_test, SVMClassifierPredictions)))\n",
    "print(\"Precision: \"+str(precision_score(y_test, SVMClassifierPredictions)))\n",
    "print(\"Recall: \"+str(recall_score(y_test, SVMClassifierPredictions)))"
   ]
  },
  {
   "cell_type": "markdown",
   "metadata": {},
   "source": [
    "Already there is a very good start, and the model seems to have an impressive overall accuracy of 99%"
   ]
  },
  {
   "cell_type": "markdown",
   "metadata": {},
   "source": [
    "### Multinomial Naive Bayes\n",
    "Let's next use a Multinomial Naive Bayes classifier. This is a suitable algorithm for this task and is commonly used for Natural Language Processing problems.\n",
    "\n",
    "As an improvement, a different vectorisation algorithm will be used this time as to be more accurate. TfidfVectorizer will be used instead of CountVectorizer, which in addition to counting how many times a word occurs also provides its importance.\n",
    "\n",
    "Let's split the training data again, as previously it was vectorised with CountVectorizer whereas now we wish to use TfidfVectorizer instead."
   ]
  },
  {
   "cell_type": "code",
   "execution_count": 23,
   "metadata": {},
   "outputs": [],
   "source": [
    "#Once again using random state = 30 for a fair comparison later on\n",
    "#Split the data, with a test size of 20%\n",
    "X_train, X_test, y_train, y_test = train_test_split(features,target, test_size=0.2,random_state=30)"
   ]
  },
  {
   "cell_type": "markdown",
   "metadata": {},
   "source": [
    "Now let's vectorise our data with the new function"
   ]
  },
  {
   "cell_type": "code",
   "execution_count": 24,
   "metadata": {},
   "outputs": [],
   "source": [
    "#Create a TF-IDF vectoriser\n",
    "vectorizer = TfidfVectorizer(max_features=2000,min_df=5, max_df=0.7)\n",
    "\n",
    "#Fit the vectoriser to the training data set\n",
    "tfidf_vect_fit = vectorizer.fit(X_train)\n",
    "\n",
    "#Finally apply the fitted vectoriser to the training and testing data sets.\n",
    "X_train_MNB = tfidf_vect_fit.transform(X_train)\n",
    "X_test_MNB = tfidf_vect_fit.transform(X_test)"
   ]
  },
  {
   "cell_type": "markdown",
   "metadata": {},
   "source": [
    "And then create and fit a Multinomial Naive Bayes model"
   ]
  },
  {
   "cell_type": "code",
   "execution_count": 25,
   "metadata": {},
   "outputs": [],
   "source": [
    "#Create a new Multinomial Naive Bayes model\n",
    "MNBClassifier = MultinomialNB()\n",
    "\n",
    "#Now fit the model to the vectorised training data set features and target\n",
    "MNBClassifier.fit(X_train_MNB,y_train)\n",
    "\n",
    "#Finally get the model's predictions for the X_test data set\n",
    "MNBClassPredictions = MNBClassifier.predict(X_test_MNB)"
   ]
  },
  {
   "cell_type": "markdown",
   "metadata": {},
   "source": [
    "Finally check the accuracy"
   ]
  },
  {
   "cell_type": "code",
   "execution_count": 26,
   "metadata": {},
   "outputs": [
    {
     "name": "stdout",
     "output_type": "stream",
     "text": [
      "Accuracy: 0.9250556792873051\n",
      "Precision: 0.9251184834123223\n",
      "Recall: 0.9162168505045764\n"
     ]
    }
   ],
   "source": [
    "print(\"Accuracy: \"+str(accuracy_score(y_test, MNBClassPredictions)))\n",
    "print(\"Precision: \"+str(precision_score(y_test, MNBClassPredictions)))\n",
    "print(\"Recall: \"+str(recall_score(y_test, MNBClassPredictions)))"
   ]
  },
  {
   "cell_type": "markdown",
   "metadata": {},
   "source": [
    "Curiously the accuracy is lower despite the more detailed vectorisation technique, however it still shows an acceptable accuracy of 92%"
   ]
  },
  {
   "cell_type": "markdown",
   "metadata": {},
   "source": [
    "### Decision Tree\n",
    "The third and final algorithm to be applied is a Decision Tree classifier.\n",
    "\n",
    "The data will be split once again, keeping 20% for testing. Once again the TF-IDF vectoriser will be used as opposed to CountVectorizer."
   ]
  },
  {
   "cell_type": "code",
   "execution_count": 27,
   "metadata": {},
   "outputs": [],
   "source": [
    "#With random state = 30\n",
    "#Split the data again, with a test size of 20%\n",
    "X_train, X_test, y_train, y_test = train_test_split(features,target, test_size=0.2,random_state=30)\n",
    "\n",
    "#Now apply the TF-IDF vectoriser\n",
    "vectorizer = TfidfVectorizer(max_features=2000,min_df=5, max_df=0.7)\n",
    "\n",
    "#Fit the vectoriser\n",
    "tfidf_vect_fit = vectorizer.fit(X_train)\n",
    "\n",
    "#Apply the fitted vectoriser to the training and testing data sets\n",
    "X_train_tree = tfidf_vect_fit.transform(X_train)\n",
    "X_test_tree = tfidf_vect_fit.transform(X_test)\n",
    "\n",
    "#Create a new Decison Tree Classifier model\n",
    "TreeClassifier = DecisionTreeClassifier()\n",
    "\n",
    "#And now fit the model to the vectorised training data set features and target\n",
    "TreeClassifier.fit(X_train_tree,y_train)\n",
    "\n",
    "#Finally get the model's predictions for the training portion of the data set to evaluate its accuracy\n",
    "TreeClassifierPredictions = TreeClassifier.predict(X_test_tree)"
   ]
  },
  {
   "cell_type": "markdown",
   "metadata": {},
   "source": [
    "Now testing the accuracy"
   ]
  },
  {
   "cell_type": "code",
   "execution_count": 28,
   "metadata": {
    "scrolled": true
   },
   "outputs": [
    {
     "name": "stdout",
     "output_type": "stream",
     "text": [
      "Accuracy: 0.9962138084632517\n",
      "Precision: 0.9976453967506476\n",
      "Recall: 0.9943675193616522\n"
     ]
    }
   ],
   "source": [
    "print(\"Accuracy: \"+str(accuracy_score(y_test, TreeClassifierPredictions)))\n",
    "print(\"Precision: \"+str(precision_score(y_test, TreeClassifierPredictions)))\n",
    "print(\"Recall: \"+str(recall_score(y_test, TreeClassifierPredictions)))"
   ]
  },
  {
   "cell_type": "markdown",
   "metadata": {},
   "source": [
    "This model yeilds a very impressive score of 98.7% accuracy, as well as very high recall and precision scores as well.\n",
    "\n",
    "With all 3 algorithms being used, it's now time to evaluate them to see which performs best for the task of Fake News Classification."
   ]
  },
  {
   "cell_type": "markdown",
   "metadata": {},
   "source": [
    "# Model Evaluation\n",
    "The first thing to do would be to make a table which will show the previously reported scores together so that each classifier can easily be compared."
   ]
  },
  {
   "cell_type": "code",
   "execution_count": 29,
   "metadata": {},
   "outputs": [
    {
     "data": {
      "text/html": [
       "<div>\n",
       "<style scoped>\n",
       "    .dataframe tbody tr th:only-of-type {\n",
       "        vertical-align: middle;\n",
       "    }\n",
       "\n",
       "    .dataframe tbody tr th {\n",
       "        vertical-align: top;\n",
       "    }\n",
       "\n",
       "    .dataframe thead th {\n",
       "        text-align: right;\n",
       "    }\n",
       "</style>\n",
       "<table border=\"1\" class=\"dataframe\">\n",
       "  <thead>\n",
       "    <tr style=\"text-align: right;\">\n",
       "      <th></th>\n",
       "      <th>Classifier</th>\n",
       "      <th>Accuracy</th>\n",
       "      <th>Precision</th>\n",
       "      <th>Recall</th>\n",
       "    </tr>\n",
       "  </thead>\n",
       "  <tbody>\n",
       "    <tr>\n",
       "      <th>0</th>\n",
       "      <td>SVM</td>\n",
       "      <td>0.994</td>\n",
       "      <td>0.995</td>\n",
       "      <td>0.992</td>\n",
       "    </tr>\n",
       "    <tr>\n",
       "      <th>1</th>\n",
       "      <td>Multinomial Naive Bayes</td>\n",
       "      <td>0.925</td>\n",
       "      <td>0.925</td>\n",
       "      <td>0.916</td>\n",
       "    </tr>\n",
       "    <tr>\n",
       "      <th>2</th>\n",
       "      <td>Decision Tree</td>\n",
       "      <td>0.996</td>\n",
       "      <td>0.998</td>\n",
       "      <td>0.994</td>\n",
       "    </tr>\n",
       "  </tbody>\n",
       "</table>\n",
       "</div>"
      ],
      "text/plain": [
       "                Classifier  Accuracy  Precision  Recall\n",
       "0                      SVM     0.994      0.995   0.992\n",
       "1  Multinomial Naive Bayes     0.925      0.925   0.916\n",
       "2            Decision Tree     0.996      0.998   0.994"
      ]
     },
     "execution_count": 29,
     "metadata": {},
     "output_type": "execute_result"
    }
   ],
   "source": [
    "#Create a dataframe with suitable columns for storing the scores\n",
    "scores = pd.DataFrame(columns=['Classifier','Accuracy','Precision','Recall'])\n",
    "#Add the SVM model and its test scores\n",
    "scores = scores.append({'Classifier': \"SVM\",\n",
    "                        'Accuracy' : round(accuracy_score(y_test, SVMClassifierPredictions),3),\n",
    "                       'Precision' : round(precision_score(y_test, SVMClassifierPredictions),3),\n",
    "                       'Recall' : round(recall_score(y_test, SVMClassifierPredictions),3),\n",
    "                       },ignore_index=True)\n",
    "#Add the Multinomial Naive Bayes model and its test scores\n",
    "scores = scores.append({'Classifier': \"Multinomial Naive Bayes\",\n",
    "                        'Accuracy' : round(accuracy_score(y_test, MNBClassPredictions),3),\n",
    "                       'Precision' : round(precision_score(y_test, MNBClassPredictions),3),\n",
    "                       'Recall' : round(recall_score(y_test, MNBClassPredictions),3),\n",
    "                       },ignore_index=True)\n",
    "#Add the Decision Tree model and its test scores\n",
    "scores = scores.append({'Classifier': \"Decision Tree\",\n",
    "                        'Accuracy' : round(accuracy_score(y_test, TreeClassifierPredictions),3),\n",
    "                       'Precision' : round(precision_score(y_test, TreeClassifierPredictions),3),\n",
    "                       'Recall' : round(recall_score(y_test, TreeClassifierPredictions),3),\n",
    "                       },ignore_index=True)\n",
    "#Show the table for comparison\n",
    "scores"
   ]
  },
  {
   "cell_type": "markdown",
   "metadata": {},
   "source": [
    "It is clear from this that the Decision Tree classifier comes out on top with regards to Accuracy and Recall, as well as overall Accuracy. This would appear to be the best model out of the three, however it should be considered that there are 2 forms of incorrect predictions the models can make (False Negative and False Positive).\n",
    "\n",
    "If the Decision Tree classifier often makes either False Negative or False Positive predictions, one of the other modles could be better which could be hidden by the fact that the model has a higher overall accuracy. Therefore next a set of confusion matrices will be made to see whether this is the case."
   ]
  },
  {
   "cell_type": "code",
   "execution_count": 30,
   "metadata": {},
   "outputs": [
    {
     "data": {
      "image/png": "[encoded data removed]",
      "text/plain": [
       "<Figure size 1080x720 with 3 Axes>"
      ]
     },
     "metadata": {
      "needs_background": "light"
     },
     "output_type": "display_data"
    }
   ],
   "source": [
    "#First make a subplot grid, with one row and three columns wide\n",
    "fig, ax = plt.subplots(nrows=1, ncols=3, figsize=(15,10))\n",
    "\n",
    "#Create and plot a confusion matrix for the SVM model in the first cell\n",
    "plot_confusion_matrix(SVMClassifier,X_test_svm,y_test,ax=ax[0],cmap='Blues',display_labels=SVMClassifier.classes_,colorbar=False)\n",
    "ax[0].set_title(\"SVM\")\n",
    "\n",
    "#Create and plot a confusion matrix for the MNB model in the second cell\n",
    "plot_confusion_matrix(MNBClassifier,X_test_MNB,y_test,ax=ax[1],cmap='Blues',display_labels=MNBClassifier.classes_,colorbar=False)\n",
    "ax[1].set_title(\"Multinomial Naive Bayes\")\n",
    "\n",
    "#Create and plot a confusion matrix for the Decision Tree model in the third cell\n",
    "plot_confusion_matrix(TreeClassifier,X_test_tree,y_test,ax=ax[2],cmap='Blues',display_labels=TreeClassifier.classes_,colorbar=False)\n",
    "ax[2].set_title(\"Decision Tree\")\n",
    "\n",
    "#Finally let's show the subplots\n",
    "plt.show();"
   ]
  },
  {
   "cell_type": "markdown",
   "metadata": {},
   "source": [
    "There is an interesting variance between the models with regards to what false predictions are made. The Multonomial Naive Bayes model appears to make an even number of False Negative and False Positive predictions, however it is known to have the lowest accuracy of the three.\n",
    "\n",
    "SVM appears to be making many more False Positive predictions, meanwhile it makes comparatively few (almost half as many) False Negative predictions making it more one sided.\n",
    "\n",
    "A similar pattern is seen with the Decision Tree model, where it seems to be making more False Positive predictions than False Negative predictions. Although it would be more ideal that there was an even number of incorrect predictions (as this would mean the accuracy score is more reliable), the difference is small and so it can safely be said that the Decision Tree model is the best.\n",
    "\n",
    "### Summary\n",
    "Moving forwards, the Decision Tree classification model is the most accurate and is the most suitable for deployment. It has an impressive __overall accuracy of 99%__, making it ideal for reliably classifying whether or not an article is true or fake."
   ]
  }
 ],
 "metadata": {
  "kernelspec": {
   "display_name": "Python 3",
   "language": "python",
   "name": "python3"
  },
  "language_info": {
   "codemirror_mode": {
    "name": "ipython",
    "version": 3
   },
   "file_extension": ".py",
   "mimetype": "text/x-python",
   "name": "python",
   "nbconvert_exporter": "python",
   "pygments_lexer": "ipython3",
   "version": "3.8.8"
  },
  "widgets": {
   "state": {},
   "version": "1.1.2"
  }
 },
 "nbformat": 4,
 "nbformat_minor": 4
}
